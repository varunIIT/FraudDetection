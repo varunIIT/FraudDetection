{
 "cells": [
  {
   "cell_type": "code",
   "execution_count": 1,
   "metadata": {
    "colab": {
     "base_uri": "https://localhost:8080/"
    },
    "id": "i-7lmhNxYnQ2",
    "outputId": "a0f29936-e019-4d93-cfc6-198a9ada48ec"
   },
   "outputs": [
    {
     "name": "stdout",
     "output_type": "stream",
     "text": [
      "Looking in indexes: https://pypi.org/simple, https://us-python.pkg.dev/colab-wheels/public/simple/\n",
      "Requirement already satisfied: pyspark in /usr/local/lib/python3.10/dist-packages (3.4.0)\n",
      "Requirement already satisfied: py4j==0.10.9.7 in /usr/local/lib/python3.10/dist-packages (from pyspark) (0.10.9.7)\n"
     ]
    }
   ],
   "source": [
    "# Install PySpark and import necessary libraries\n",
    "!pip install pyspark\n",
    "from pyspark.sql import SparkSession\n",
    "import pyspark.sql.functions as F\n",
    "import pyspark.sql.types as T\n",
    "\n",
    "import warnings\n",
    "# Filter out DeprecationWarnings\n",
    "warnings.filterwarnings(\"ignore\", category=DeprecationWarning)\n"
   ]
  },
  {
   "cell_type": "code",
   "execution_count": 2,
   "metadata": {
    "id": "e_Zr_Udvh1Fs"
   },
   "outputs": [],
   "source": [
    "# Create a SparkSession\n",
    "spark = SparkSession.builder.appName('fraud_detection').getOrCreate()\n"
   ]
  },
  {
   "cell_type": "code",
   "execution_count": 3,
   "metadata": {
    "colab": {
     "base_uri": "https://localhost:8080/"
    },
    "id": "7iwaROv_h47d",
    "outputId": "6ff7ee9f-f8f2-4b91-e282-1552ab966ed7"
   },
   "outputs": [
    {
     "name": "stdout",
     "output_type": "stream",
     "text": [
      "root\n",
      " |-- step: integer (nullable = true)\n",
      " |-- type: string (nullable = true)\n",
      " |-- amount: double (nullable = true)\n",
      " |-- nameOrig: string (nullable = true)\n",
      " |-- oldbalanceOrg: double (nullable = true)\n",
      " |-- newbalanceOrig: double (nullable = true)\n",
      " |-- nameDest: string (nullable = true)\n",
      " |-- oldbalanceDest: double (nullable = true)\n",
      " |-- newbalanceDest: double (nullable = true)\n",
      " |-- isFraud: integer (nullable = true)\n",
      " |-- isFlaggedFraud: integer (nullable = true)\n",
      "\n",
      "+----+-------+-------+-----------+-------------+--------------+-----------+--------------+--------------+-------+--------------+\n",
      "|step|   type| amount|   nameOrig|oldbalanceOrg|newbalanceOrig|   nameDest|oldbalanceDest|newbalanceDest|isFraud|isFlaggedFraud|\n",
      "+----+-------+-------+-----------+-------------+--------------+-----------+--------------+--------------+-------+--------------+\n",
      "|   1|PAYMENT|9839.64|C1231006815|     170136.0|     160296.36|M1979787155|           0.0|           0.0|      0|             0|\n",
      "|   1|PAYMENT|1864.28|C1666544295|      21249.0|      19384.72|M2044282225|           0.0|           0.0|      0|             0|\n",
      "+----+-------+-------+-----------+-------------+--------------+-----------+--------------+--------------+-------+--------------+\n",
      "only showing top 2 rows\n",
      "\n"
     ]
    }
   ],
   "source": [
    "# Load the fraud detection dataset as a Spark dataframe\n",
    "df = spark.read.csv(\"./fraud_detection_dataset.csv\", inferSchema=True, header=True)\n",
    "\n",
    "# Print the schema and sample data\n",
    "df.printSchema()\n",
    "df.show(2)\n"
   ]
  },
  {
   "cell_type": "code",
   "execution_count": 4,
   "metadata": {
    "colab": {
     "base_uri": "https://localhost:8080/"
    },
    "id": "Xjl0POpFq4s4",
    "outputId": "052d1d63-f886-4017-b2b6-f50e139f5441"
   },
   "outputs": [
    {
     "name": "stdout",
     "output_type": "stream",
     "text": [
      "Number of rows:  3127948\n"
     ]
    }
   ],
   "source": [
    "# get the number of rows in the DataFrame\n",
    "row_count = df.count()\n",
    "\n",
    "# print the number of rows\n",
    "print(\"Number of rows: \", row_count)"
   ]
  },
  {
   "cell_type": "code",
   "execution_count": 5,
   "metadata": {
    "colab": {
     "base_uri": "https://localhost:8080/"
    },
    "id": "KWDhqdcih8mA",
    "outputId": "86bb03ab-dd8f-4a58-f43c-bc98dfee55f7"
   },
   "outputs": [
    {
     "name": "stdout",
     "output_type": "stream",
     "text": [
      "+-------+-------+-------------+--------------+-------+\n",
      "|   type| amount|oldbalanceOrg|newbalanceOrig|isFraud|\n",
      "+-------+-------+-------------+--------------+-------+\n",
      "|PAYMENT|9839.64|     170136.0|     160296.36|      0|\n",
      "|PAYMENT|1864.28|      21249.0|      19384.72|      0|\n",
      "+-------+-------+-------------+--------------+-------+\n",
      "only showing top 2 rows\n",
      "\n",
      "root\n",
      " |-- type: string (nullable = true)\n",
      " |-- amount: double (nullable = true)\n",
      " |-- oldbalanceOrg: double (nullable = true)\n",
      " |-- newbalanceOrig: double (nullable = true)\n",
      " |-- isFraud: integer (nullable = true)\n",
      "\n"
     ]
    }
   ],
   "source": [
    "# Select the relevant columns for the analysis\n",
    "df = df.select(\"type\", \"amount\", \"oldbalanceOrg\", \"newbalanceOrig\", \"isFraud\")\n",
    "\n",
    "# Print the schema and sample data after selecting relevant columns\n",
    "df.show(2)\n",
    "df.printSchema()\n"
   ]
  },
  {
   "cell_type": "code",
   "execution_count": 6,
   "metadata": {
    "colab": {
     "base_uri": "https://localhost:8080/"
    },
    "id": "C8W_DwE4h_Rv",
    "outputId": "210e6dc2-25d7-4d80-8372-73516eb0c32c"
   },
   "outputs": [
    {
     "name": "stdout",
     "output_type": "stream",
     "text": [
      "+----+------+-------------+--------------+-------+\n",
      "|type|amount|oldbalanceOrg|newbalanceOrig|isFraud|\n",
      "+----+------+-------------+--------------+-------+\n",
      "|   1|     1|            1|             1|      1|\n",
      "+----+------+-------------+--------------+-------+\n",
      "\n",
      "+----+------+-------------+--------------+-------+\n",
      "|type|amount|oldbalanceOrg|newbalanceOrig|isFraud|\n",
      "+----+------+-------------+--------------+-------+\n",
      "|   0|     0|            0|             0|      0|\n",
      "+----+------+-------------+--------------+-------+\n",
      "\n"
     ]
    }
   ],
   "source": [
    "# Check for missing values and drop rows with missing values\n",
    "data_agg = df.agg(*[F.count(F.when(F.isnull(c), c)).alias(c) for c in df.columns])\n",
    "data_agg.show()\n",
    "df = df.dropna()\n",
    "data_agg = df.agg(*[F.count(F.when(F.isnull(c), c)).alias(c) for c in df.columns])\n",
    "data_agg.show()\n"
   ]
  },
  {
   "cell_type": "code",
   "execution_count": 7,
   "metadata": {
    "colab": {
     "base_uri": "https://localhost:8080/"
    },
    "id": "kb5zW5JGiI0j",
    "outputId": "485204ee-6ca7-4d8c-8fc6-b85775a30216"
   },
   "outputs": [
    {
     "name": "stdout",
     "output_type": "stream",
     "text": [
      "+--------+-------+\n",
      "|    type|  count|\n",
      "+--------+-------+\n",
      "|TRANSFER| 258994|\n",
      "| CASH_IN| 686608|\n",
      "|CASH_OUT|1116607|\n",
      "| PAYMENT|1046141|\n",
      "|   DEBIT|  19597|\n",
      "+--------+-------+\n",
      "\n"
     ]
    }
   ],
   "source": [
    "# Group the data by transaction type to understand the distribution of transactions\n",
    "df.groupBy('type').count().show()\n"
   ]
  },
  {
   "cell_type": "code",
   "execution_count": 8,
   "metadata": {
    "colab": {
     "base_uri": "https://localhost:8080/"
    },
    "id": "b2tXvASciNOs",
    "outputId": "b0696eeb-225b-4a09-9e23-10b1f55f708c"
   },
   "outputs": [
    {
     "name": "stdout",
     "output_type": "stream",
     "text": [
      "Train set length: 2189829 records\n",
      "Test set length: 938118 records\n"
     ]
    }
   ],
   "source": [
    "# Split the data into training and testing sets\n",
    "train, test = df.randomSplit([0.7, 0.3], seed=40)\n",
    "print(f\"Train set length: {train.count()} records\")\n",
    "print(f\"Test set length: {test.count()} records\")\n"
   ]
  },
  {
   "cell_type": "code",
   "execution_count": 9,
   "metadata": {
    "colab": {
     "base_uri": "https://localhost:8080/"
    },
    "id": "3YAI7hdviSyr",
    "outputId": "d236cb28-6a00-43c1-cc76-3481feba49ac"
   },
   "outputs": [
    {
     "name": "stdout",
     "output_type": "stream",
     "text": [
      "+-------+------+-------------+--------------+-------+\n",
      "|   type|amount|oldbalanceOrg|newbalanceOrig|isFraud|\n",
      "+-------+------+-------------+--------------+-------+\n",
      "|CASH_IN|  1.42|   1270713.41|    1270714.83|      0|\n",
      "|CASH_IN|  4.35|   4136277.22|    4136281.57|      0|\n",
      "+-------+------+-------------+--------------+-------+\n",
      "only showing top 2 rows\n",
      "\n",
      "['amount', 'oldbalanceOrg', 'newbalanceOrig']\n",
      "['type']\n",
      "+-----------+\n",
      "|count(type)|\n",
      "+-----------+\n",
      "|          5|\n",
      "+-----------+\n",
      "\n",
      "+--------+------+\n",
      "|    type| count|\n",
      "+--------+------+\n",
      "|TRANSFER|181041|\n",
      "| CASH_IN|480391|\n",
      "|CASH_OUT|782897|\n",
      "| PAYMENT|731771|\n",
      "|   DEBIT| 13729|\n",
      "+--------+------+\n",
      "\n"
     ]
    }
   ],
   "source": [
    "# Print the first two rows of the training set and the data types of each column\n",
    "train.show(2)\n",
    "train.dtypes\n",
    "\n",
    "# Identify categorical and numerical columns\n",
    "catCols = [x for (x, dataType) in train.dtypes if dataType == \"string\"]\n",
    "numCols = [x for (x, dataType) in train.dtypes if (dataType == \"double\")]\n",
    "\n",
    "# Print the identified categorical and numerical columns\n",
    "print(numCols)\n",
    "print(catCols)\n",
    "\n",
    "# Check the number of distinct transaction types in the training set\n",
    "train.agg(F.countDistinct(\"type\")).show()\n",
    "# Group the training set by transaction type to understand the distribution of transactions\n",
    "train.groupBy(\"type\").count().show()\n"
   ]
  },
  {
   "cell_type": "code",
   "execution_count": 10,
   "metadata": {
    "id": "ClbgZQ78kOCi"
   },
   "outputs": [],
   "source": [
    "# Use StringIndexer and OneHotEncoder to transform categorical columns to numerical values\n",
    "from pyspark.ml.feature import (\n",
    "    OneHotEncoder,\n",
    "    StringIndexer,\n",
    ")"
   ]
  },
  {
   "cell_type": "code",
   "execution_count": 11,
   "metadata": {
    "colab": {
     "base_uri": "https://localhost:8080/"
    },
    "id": "Eu6N1aWmiYsa",
    "outputId": "91233154-ad9c-4c2a-96c5-f03a49a3a141"
   },
   "outputs": [
    {
     "name": "stdout",
     "output_type": "stream",
     "text": [
      "+--------+---------+-------------+--------------+-------+------------------+\n",
      "|    type|   amount|oldbalanceOrg|newbalanceOrig|isFraud|type_StringIndexer|\n",
      "+--------+---------+-------------+--------------+-------+------------------+\n",
      "| PAYMENT|  9839.64|     170136.0|     160296.36|      0|               1.0|\n",
      "| PAYMENT|  1864.28|      21249.0|      19384.72|      0|               1.0|\n",
      "|TRANSFER|    181.0|        181.0|           0.0|      1|               3.0|\n",
      "|CASH_OUT|    181.0|        181.0|           0.0|      1|               0.0|\n",
      "| PAYMENT| 11668.14|      41554.0|      29885.86|      0|               1.0|\n",
      "| PAYMENT|  7817.71|      53860.0|      46042.29|      0|               1.0|\n",
      "| PAYMENT|  7107.77|     183195.0|     176087.23|      0|               1.0|\n",
      "| PAYMENT|  7861.64|    176087.23|     168225.59|      0|               1.0|\n",
      "| PAYMENT|  4024.36|       2671.0|           0.0|      0|               1.0|\n",
      "|   DEBIT|  5337.77|      41720.0|      36382.23|      0|               4.0|\n",
      "|   DEBIT|  9644.94|       4465.0|           0.0|      0|               4.0|\n",
      "| PAYMENT|  3099.97|      20771.0|      17671.03|      0|               1.0|\n",
      "| PAYMENT|  2560.74|       5070.0|       2509.26|      0|               1.0|\n",
      "| PAYMENT| 11633.76|      10127.0|           0.0|      0|               1.0|\n",
      "| PAYMENT|  4098.78|     503264.0|     499165.22|      0|               1.0|\n",
      "|CASH_OUT|229133.94|      15325.0|           0.0|      0|               0.0|\n",
      "| PAYMENT|  1563.82|        450.0|           0.0|      0|               1.0|\n",
      "| PAYMENT|  1157.86|      21156.0|      19998.14|      0|               1.0|\n",
      "| PAYMENT|   671.64|      15123.0|      14451.36|      0|               1.0|\n",
      "|TRANSFER| 215310.3|        705.0|           0.0|      0|               3.0|\n",
      "+--------+---------+-------------+--------------+-------+------------------+\n",
      "only showing top 20 rows\n",
      "\n"
     ]
    }
   ],
   "source": [
    "\n",
    "string_indexer = [\n",
    "    StringIndexer(inputCol=x, outputCol=x + \"_StringIndexer\", handleInvalid=\"skip\")\n",
    "    for x in catCols\n",
    "]\n",
    "string_indexe=string_indexer[0].fit(df).transform(df)\n",
    "string_indexe.show()\n"
   ]
  },
  {
   "cell_type": "code",
   "execution_count": 12,
   "metadata": {
    "colab": {
     "base_uri": "https://localhost:8080/"
    },
    "id": "-qWOP80Cino9",
    "outputId": "d004af80-a9d1-4bbb-893d-2418cf554f18"
   },
   "outputs": [
    {
     "name": "stdout",
     "output_type": "stream",
     "text": [
      "+--------+---------+-------------+--------------+-------+------------------+------------------+\n",
      "|    type|   amount|oldbalanceOrg|newbalanceOrig|isFraud|type_StringIndexer|type_OneHotEncoder|\n",
      "+--------+---------+-------------+--------------+-------+------------------+------------------+\n",
      "| PAYMENT|  9839.64|     170136.0|     160296.36|      0|               1.0|     (4,[1],[1.0])|\n",
      "| PAYMENT|  1864.28|      21249.0|      19384.72|      0|               1.0|     (4,[1],[1.0])|\n",
      "|TRANSFER|    181.0|        181.0|           0.0|      1|               3.0|     (4,[3],[1.0])|\n",
      "|CASH_OUT|    181.0|        181.0|           0.0|      1|               0.0|     (4,[0],[1.0])|\n",
      "| PAYMENT| 11668.14|      41554.0|      29885.86|      0|               1.0|     (4,[1],[1.0])|\n",
      "| PAYMENT|  7817.71|      53860.0|      46042.29|      0|               1.0|     (4,[1],[1.0])|\n",
      "| PAYMENT|  7107.77|     183195.0|     176087.23|      0|               1.0|     (4,[1],[1.0])|\n",
      "| PAYMENT|  7861.64|    176087.23|     168225.59|      0|               1.0|     (4,[1],[1.0])|\n",
      "| PAYMENT|  4024.36|       2671.0|           0.0|      0|               1.0|     (4,[1],[1.0])|\n",
      "|   DEBIT|  5337.77|      41720.0|      36382.23|      0|               4.0|         (4,[],[])|\n",
      "|   DEBIT|  9644.94|       4465.0|           0.0|      0|               4.0|         (4,[],[])|\n",
      "| PAYMENT|  3099.97|      20771.0|      17671.03|      0|               1.0|     (4,[1],[1.0])|\n",
      "| PAYMENT|  2560.74|       5070.0|       2509.26|      0|               1.0|     (4,[1],[1.0])|\n",
      "| PAYMENT| 11633.76|      10127.0|           0.0|      0|               1.0|     (4,[1],[1.0])|\n",
      "| PAYMENT|  4098.78|     503264.0|     499165.22|      0|               1.0|     (4,[1],[1.0])|\n",
      "|CASH_OUT|229133.94|      15325.0|           0.0|      0|               0.0|     (4,[0],[1.0])|\n",
      "| PAYMENT|  1563.82|        450.0|           0.0|      0|               1.0|     (4,[1],[1.0])|\n",
      "| PAYMENT|  1157.86|      21156.0|      19998.14|      0|               1.0|     (4,[1],[1.0])|\n",
      "| PAYMENT|   671.64|      15123.0|      14451.36|      0|               1.0|     (4,[1],[1.0])|\n",
      "|TRANSFER| 215310.3|        705.0|           0.0|      0|               3.0|     (4,[3],[1.0])|\n",
      "+--------+---------+-------------+--------------+-------+------------------+------------------+\n",
      "only showing top 20 rows\n",
      "\n"
     ]
    }
   ],
   "source": [
    "one_hot_encoder = [\n",
    "    OneHotEncoder(\n",
    "        inputCols=[f\"{x}_StringIndexer\" for x in catCols],\n",
    "        outputCols=[f\"{x}_OneHotEncoder\" for x in catCols],\n",
    "    )\n",
    "]\n",
    "one_hot_encoder_df=one_hot_encoder[0].fit(string_indexe).transform(string_indexe)\n",
    "one_hot_encoder_df.show()"
   ]
  },
  {
   "cell_type": "code",
   "execution_count": 13,
   "metadata": {
    "colab": {
     "base_uri": "https://localhost:8080/"
    },
    "id": "17EpvWesiqQe",
    "outputId": "4e9cf124-f6f8-42dd-8093-391a86b61647"
   },
   "outputs": [
    {
     "data": {
      "text/plain": [
       "[StringIndexer_488712a55d6e,\n",
       " OneHotEncoder_bc4b162c08e6,\n",
       " VectorAssembler_25c15d78ec48]"
      ]
     },
     "execution_count": 13,
     "metadata": {},
     "output_type": "execute_result"
    }
   ],
   "source": [
    "\n",
    "# Use VectorAssembler to combine numerical and categorical columns into a feature vector\n",
    "from pyspark.ml.feature import VectorAssembler\n",
    "\n",
    "assemblerInput = [x for x in numCols]\n",
    "assemblerInput += [f\"{x}_OneHotEncoder\" for x in catCols]\n",
    "\n",
    "vector_assembler = VectorAssembler(\n",
    "    inputCols=assemblerInput, outputCol=\"VectorAssembler_features\"\n",
    ")\n",
    "stages = []\n",
    "stages += string_indexer\n",
    "stages += one_hot_encoder\n",
    "stages += [vector_assembler]\n",
    "stages\n"
   ]
  },
  {
   "cell_type": "code",
   "execution_count": 14,
   "metadata": {
    "id": "6CDs4DMlix9E"
   },
   "outputs": [],
   "source": [
    "# Create a pipeline to execute the transformation stages in a specific order\n",
    "from pyspark.ml import Pipeline\n",
    "pipeline = Pipeline().setStages(stages)\n"
   ]
  },
  {
   "cell_type": "code",
   "execution_count": 15,
   "metadata": {
    "colab": {
     "base_uri": "https://localhost:8080/"
    },
    "id": "QcCUusu_i2no",
    "outputId": "9febcf05-390f-4da1-8e3b-f798abc46552"
   },
   "outputs": [
    {
     "name": "stdout",
     "output_type": "stream",
     "text": [
      "+-------+------+-------------+--------------+-------+------------------+------------------+------------------------+\n",
      "|   type|amount|oldbalanceOrg|newbalanceOrig|isFraud|type_StringIndexer|type_OneHotEncoder|VectorAssembler_features|\n",
      "+-------+------+-------------+--------------+-------+------------------+------------------+------------------------+\n",
      "|CASH_IN|  1.42|   1270713.41|    1270714.83|      0|               2.0|     (4,[2],[1.0])|    [1.42,1270713.41,...|\n",
      "|CASH_IN|  4.35|   4136277.22|    4136281.57|      0|               2.0|     (4,[2],[1.0])|    [4.35,4136277.22,...|\n",
      "|CASH_IN|  4.58|      94241.0|      94245.58|      0|               2.0|     (4,[2],[1.0])|    [4.58,94241.0,942...|\n",
      "|CASH_IN|  4.71|      50198.0|      50202.71|      0|               2.0|     (4,[2],[1.0])|    [4.71,50198.0,502...|\n",
      "|CASH_IN|  5.19|      18104.0|      18109.19|      0|               2.0|     (4,[2],[1.0])|    [5.19,18104.0,181...|\n",
      "|CASH_IN|  5.44|          0.0|          5.44|      0|               2.0|     (4,[2],[1.0])|    (7,[0,2,5],[5.44,...|\n",
      "|CASH_IN|  5.66|   5061561.06|    5061566.72|      0|               2.0|     (4,[2],[1.0])|    [5.66,5061561.06,...|\n",
      "|CASH_IN|  6.07|     400680.0|     400686.07|      0|               2.0|     (4,[2],[1.0])|    [6.07,400680.0,40...|\n",
      "|CASH_IN|   6.5|   1696433.45|    1696439.95|      0|               2.0|     (4,[2],[1.0])|    [6.5,1696433.45,1...|\n",
      "|CASH_IN|  8.27|   8428410.94|    8428419.21|      0|               2.0|     (4,[2],[1.0])|    [8.27,8428410.94,...|\n",
      "|CASH_IN|  8.44|      39384.0|      39392.44|      0|               2.0|     (4,[2],[1.0])|    [8.44,39384.0,393...|\n",
      "|CASH_IN| 11.13|   4116439.74|    4116450.87|      0|               2.0|     (4,[2],[1.0])|    [11.13,4116439.74...|\n",
      "|CASH_IN| 12.18|     299322.0|     299334.18|      0|               2.0|     (4,[2],[1.0])|    [12.18,299322.0,2...|\n",
      "|CASH_IN| 12.79|     601743.0|     601755.79|      0|               2.0|     (4,[2],[1.0])|    [12.79,601743.0,6...|\n",
      "|CASH_IN|  13.2|     106204.0|      106217.2|      0|               2.0|     (4,[2],[1.0])|    [13.2,106204.0,10...|\n",
      "|CASH_IN| 15.59| 1.64294897E7| 1.642950528E7|      0|               2.0|     (4,[2],[1.0])|    [15.59,1.64294897...|\n",
      "|CASH_IN|  16.3|2.140511936E7| 2.140513566E7|      0|               2.0|     (4,[2],[1.0])|    [16.3,2.140511936...|\n",
      "|CASH_IN| 16.89|          0.0|         16.89|      0|               2.0|     (4,[2],[1.0])|    (7,[0,2,5],[16.89...|\n",
      "|CASH_IN| 17.33|   8964056.72|    8964074.05|      0|               2.0|     (4,[2],[1.0])|    [17.33,8964056.72...|\n",
      "|CASH_IN| 18.53|    951352.78|     951371.31|      0|               2.0|     (4,[2],[1.0])|    [18.53,951352.78,...|\n",
      "+-------+------+-------------+--------------+-------+------------------+------------------+------------------------+\n",
      "only showing top 20 rows\n",
      "\n",
      "+--------------------+-----+\n",
      "|            features|label|\n",
      "+--------------------+-----+\n",
      "|[1.42,1270713.41,...|    0|\n",
      "|[4.35,4136277.22,...|    0|\n",
      "|[4.58,94241.0,942...|    0|\n",
      "|[4.71,50198.0,502...|    0|\n",
      "|[5.19,18104.0,181...|    0|\n",
      "|(7,[0,2,5],[5.44,...|    0|\n",
      "|[5.66,5061561.06,...|    0|\n",
      "|[6.07,400680.0,40...|    0|\n",
      "|[6.5,1696433.45,1...|    0|\n",
      "|[8.27,8428410.94,...|    0|\n",
      "|[8.44,39384.0,393...|    0|\n",
      "|[11.13,4116439.74...|    0|\n",
      "|[12.18,299322.0,2...|    0|\n",
      "|[12.79,601743.0,6...|    0|\n",
      "|[13.2,106204.0,10...|    0|\n",
      "|[15.59,1.64294897...|    0|\n",
      "|[16.3,2.140511936...|    0|\n",
      "|(7,[0,2,5],[16.89...|    0|\n",
      "|[17.33,8964056.72...|    0|\n",
      "|[18.53,951352.78,...|    0|\n",
      "+--------------------+-----+\n",
      "only showing top 20 rows\n",
      "\n"
     ]
    }
   ],
   "source": [
    "# Define a pipeline and fit it to the training data\n",
    "model = pipeline.fit(train)\n",
    "# Transform the training data using the pipeline\n",
    "pp_df_train = model.transform(train)\n",
    "pp_df_train.show()\n",
    "\n",
    "# Select relevant features and labels from the transformed training data\n",
    "data_train = pp_df_train.select(\n",
    "    F.col(\"VectorAssembler_features\").alias(\"features\"),\n",
    "    F.col(\"isFraud\").alias(\"label\"),\n",
    ")\n",
    "data_train.show()\n"
   ]
  },
  {
   "cell_type": "code",
   "execution_count": 16,
   "metadata": {
    "colab": {
     "base_uri": "https://localhost:8080/"
    },
    "id": "1wA4Gk8ji42k",
    "outputId": "62172c6a-d95c-49d2-8779-44a7ffda164c"
   },
   "outputs": [
    {
     "name": "stdout",
     "output_type": "stream",
     "text": [
      "+-------+------+-------------+--------------+-------+------------------+------------------+------------------------+\n",
      "|   type|amount|oldbalanceOrg|newbalanceOrig|isFraud|type_StringIndexer|type_OneHotEncoder|VectorAssembler_features|\n",
      "+-------+------+-------------+--------------+-------+------------------+------------------+------------------------+\n",
      "|CASH_IN|  6.76|      11322.0|      11328.76|      0|               2.0|     (4,[2],[1.0])|    [6.76,11322.0,113...|\n",
      "|CASH_IN|  8.29|      20392.0|      20400.29|      0|               2.0|     (4,[2],[1.0])|    [8.29,20392.0,204...|\n",
      "|CASH_IN|  9.02|   2416260.59|    2416269.61|      0|               2.0|     (4,[2],[1.0])|    [9.02,2416260.59,...|\n",
      "|CASH_IN| 13.86|   6868100.18|    6868114.04|      0|               2.0|     (4,[2],[1.0])|    [13.86,6868100.18...|\n",
      "|CASH_IN| 14.36|    613030.46|     613044.82|      0|               2.0|     (4,[2],[1.0])|    [14.36,613030.46,...|\n",
      "|CASH_IN|  14.4|1.143460813E7| 1.143462253E7|      0|               2.0|     (4,[2],[1.0])|    [14.4,1.143460813...|\n",
      "|CASH_IN| 14.54|    3347286.5|    3347301.03|      0|               2.0|     (4,[2],[1.0])|    [14.54,3347286.5,...|\n",
      "|CASH_IN| 15.52|   4368030.06|    4368045.59|      0|               2.0|     (4,[2],[1.0])|    [15.52,4368030.06...|\n",
      "|CASH_IN| 17.53|   1111294.85|    1111312.37|      0|               2.0|     (4,[2],[1.0])|    [17.53,1111294.85...|\n",
      "|CASH_IN| 20.34|    991344.41|     991364.74|      0|               2.0|     (4,[2],[1.0])|    [20.34,991344.41,...|\n",
      "|CASH_IN| 22.67|     405940.0|     405962.67|      0|               2.0|     (4,[2],[1.0])|    [22.67,405940.0,4...|\n",
      "|CASH_IN| 23.14|1.400007828E7| 1.400010142E7|      0|               2.0|     (4,[2],[1.0])|    [23.14,1.40000782...|\n",
      "|CASH_IN| 26.78|      51635.0|      51661.78|      0|               2.0|     (4,[2],[1.0])|    [26.78,51635.0,51...|\n",
      "|CASH_IN| 34.05|      90282.0|      90316.05|      0|               2.0|     (4,[2],[1.0])|    [34.05,90282.0,90...|\n",
      "|CASH_IN| 39.04|       6131.0|       6170.04|      0|               2.0|     (4,[2],[1.0])|    [39.04,6131.0,617...|\n",
      "|CASH_IN| 39.44|   7049898.35|    7049937.79|      0|               2.0|     (4,[2],[1.0])|    [39.44,7049898.35...|\n",
      "|CASH_IN| 40.54|   1692483.84|    1692524.38|      0|               2.0|     (4,[2],[1.0])|    [40.54,1692483.84...|\n",
      "|CASH_IN| 41.44|1.343779421E7| 1.343783565E7|      0|               2.0|     (4,[2],[1.0])|    [41.44,1.34377942...|\n",
      "|CASH_IN| 41.87|1.741583626E7| 1.741587813E7|      0|               2.0|     (4,[2],[1.0])|    [41.87,1.74158362...|\n",
      "|CASH_IN| 45.02|   2745236.45|    2745281.46|      0|               2.0|     (4,[2],[1.0])|    [45.02,2745236.45...|\n",
      "+-------+------+-------------+--------------+-------+------------------+------------------+------------------------+\n",
      "only showing top 20 rows\n",
      "\n",
      "+---------------------------------------------+-----+\n",
      "|features                                     |label|\n",
      "+---------------------------------------------+-----+\n",
      "|[6.76,11322.0,11328.76,0.0,0.0,1.0,0.0]      |0    |\n",
      "|[8.29,20392.0,20400.29,0.0,0.0,1.0,0.0]      |0    |\n",
      "|[9.02,2416260.59,2416269.61,0.0,0.0,1.0,0.0] |0    |\n",
      "|[13.86,6868100.18,6868114.04,0.0,0.0,1.0,0.0]|0    |\n",
      "|[14.36,613030.46,613044.82,0.0,0.0,1.0,0.0]  |0    |\n",
      "+---------------------------------------------+-----+\n",
      "only showing top 5 rows\n",
      "\n"
     ]
    }
   ],
   "source": [
    "# Fit the pipeline to the test data and transform it\n",
    "model = pipeline.fit(test)\n",
    "pp_df_test = model.transform(test)\n",
    "pp_df_test.show()\n",
    "\n",
    "# Select relevant features and labels from the transformed test data\n",
    "data_test = pp_df_test.select(\n",
    "    F.col(\"VectorAssembler_features\").alias(\"features\"),\n",
    "    F.col(\"isFraud\").alias(\"label\"),\n",
    ")\n",
    "data_test.show(5, truncate=False)\n"
   ]
  },
  {
   "cell_type": "code",
   "execution_count": 17,
   "metadata": {
    "colab": {
     "base_uri": "https://localhost:8080/"
    },
    "id": "rmYhw6xqjQgs",
    "outputId": "b95f243b-f562-4625-8af4-2138cc688d6d"
   },
   "outputs": [
    {
     "data": {
      "text/plain": [
       "BinaryClassificationEvaluator_0d8eeb7e3bc3"
      ]
     },
     "execution_count": 17,
     "metadata": {},
     "output_type": "execute_result"
    }
   ],
   "source": [
    "# Evaluate the logistic regression model using a binary classification evaluator\n",
    "from pyspark.ml.evaluation import BinaryClassificationEvaluator\n",
    "evaluator = BinaryClassificationEvaluator()\n",
    "evaluator.setLabelCol(\"label\")"
   ]
  },
  {
   "cell_type": "code",
   "execution_count": 18,
   "metadata": {
    "id": "SMtu43MOpRqw"
   },
   "outputs": [],
   "source": [
    "from pyspark.sql.functions import col\n",
    "\n",
    "def compute_accuracy(predictions):\n",
    "  \n",
    "    correct_predictions = predictions.filter(col('prediction') == col('label')).count()\n",
    "    total_predictions = predictions.count()\n",
    "    accuracy = correct_predictions / total_predictions\n",
    "    return accuracy"
   ]
  },
  {
   "cell_type": "code",
   "execution_count": 19,
   "metadata": {
    "colab": {
     "base_uri": "https://localhost:8080/"
    },
    "id": "D5qdspIEn9AT",
    "outputId": "53d48c89-3e6e-4ec7-bee5-842e7266890c"
   },
   "outputs": [
    {
     "name": "stdout",
     "output_type": "stream",
     "text": [
      "Evaluation results:  0.2147684242473541\n",
      "Accuracy: 99.93924005295709%\n"
     ]
    }
   ],
   "source": [
    "# Train a decision tree classifier on the training data\n",
    "from pyspark.ml.classification import DecisionTreeClassifier\n",
    "model = DecisionTreeClassifier(maxDepth=5).fit(data_train)\n",
    "\n",
    "# Use the trained decision tree classifier to make predictions on the test data\n",
    "data_pred = model.transform(data_test)\n",
    "\n",
    "# Evaluate the decision tree classifier using a binary classification evaluator\n",
    "eval_results = evaluator.evaluate(data_pred)\n",
    "print(\"Evaluation results: \",eval_results)\n",
    "\n",
    "accuracy = compute_accuracy(data_pred)\n",
    "print(\"Accuracy: {}%\".format(accuracy * 100))"
   ]
  },
  {
   "cell_type": "code",
   "execution_count": 20,
   "metadata": {
    "colab": {
     "base_uri": "https://localhost:8080/"
    },
    "id": "lV7QzwuIjIpz",
    "outputId": "626065db-1abb-458e-f7cf-533749df2d1e"
   },
   "outputs": [
    {
     "name": "stdout",
     "output_type": "stream",
     "text": [
      "Evaluation results:  0.963044325089312\n",
      "Accuracy: 99.93689493219404%\n"
     ]
    }
   ],
   "source": [
    "# Train a random forest classifier on the training data\n",
    "from pyspark.ml.classification import RandomForestClassifier\n",
    "model = RandomForestClassifier(maxDepth=5).fit(data_train)\n",
    "\n",
    "# Use the trained random forest classifier to make predictions on the test data\n",
    "data_pred=model.transform(data_test)\n",
    "\n",
    "# Evaluate the random forest classifier using a binary classification evaluator\n",
    "eval_results = evaluator.evaluate(data_pred)\n",
    "print(\"Evaluation results: \",eval_results)\n",
    "\n",
    "accuracy = compute_accuracy(data_pred)\n",
    "print(\"Accuracy: {}%\".format(accuracy * 100))"
   ]
  },
  {
   "cell_type": "code",
   "execution_count": 21,
   "metadata": {
    "colab": {
     "base_uri": "https://localhost:8080/"
    },
    "id": "VnKEuhEF46cZ",
    "outputId": "b57ace31-3344-49e2-dede-ff119c003de2"
   },
   "outputs": [
    {
     "name": "stdout",
     "output_type": "stream",
     "text": [
      "Evaluation results:  0.35213388110452065\n",
      "Accuracy: 40.76704636303749%\n"
     ]
    }
   ],
   "source": [
    "# Train a Naive Bayes classifier on the training data\n",
    "from pyspark.ml.classification import NaiveBayes\n",
    "model = NaiveBayes().fit(data_train)\n",
    "\n",
    "# Use the trained Naive Bayes classifier to make predictions on the test data\n",
    "data_pred=model.transform(data_test)\n",
    "\n",
    "# Evaluate the Naive Bayes classifier using a binary classification evaluator\n",
    "eval_results = evaluator.evaluate(data_pred)\n",
    "print(\"Evaluation results: \",eval_results)\n",
    "\n",
    "accuracy = compute_accuracy(data_pred)\n",
    "print(\"Accuracy: {}%\".format(accuracy * 100))"
   ]
  },
  {
   "cell_type": "code",
   "execution_count": 22,
   "metadata": {
    "colab": {
     "base_uri": "https://localhost:8080/"
    },
    "id": "0pnx35sKpy3q",
    "outputId": "051eafdf-328f-4a9a-ab62-43d5aabee7c0"
   },
   "outputs": [
    {
     "name": "stdout",
     "output_type": "stream",
     "text": [
      "Evaluation results:  0.9921360640216541\n",
      "Accuracy: 99.94297092689833%\n"
     ]
    }
   ],
   "source": [
    "# Train a logistic regression model on the training data\n",
    "from pyspark.ml.classification import LogisticRegression\n",
    "model = LogisticRegression().fit(data_train)\n",
    "\n",
    "# Use the trained logistic regression model to make predictions on the test data\n",
    "data_pred=model.transform(data_test)\n",
    "# Evaluate the logistic regression using a binary classification evaluator\n",
    "eval_results = evaluator.evaluate(data_pred)\n",
    "print(\"Evaluation results: \",eval_results)\n",
    "\n",
    "accuracy = compute_accuracy(data_pred)\n",
    "print(\"Accuracy: {}%\".format(accuracy * 100))"
   ]
  },
  {
   "cell_type": "code",
   "execution_count": 23,
   "metadata": {
    "colab": {
     "base_uri": "https://localhost:8080/"
    },
    "id": "3G7ZYM3sunBR",
    "outputId": "5dc827dc-4508-49cc-e8d2-0c6901249259"
   },
   "outputs": [
    {
     "name": "stderr",
     "output_type": "stream",
     "text": [
      "/usr/local/lib/python3.10/dist-packages/pyspark/sql/context.py:157: FutureWarning: Deprecated in 3.0.0. Use SparkSession.builder.getOrCreate() instead.\n",
      "  warnings.warn(\n"
     ]
    },
    {
     "name": "stdout",
     "output_type": "stream",
     "text": [
      "Confusion matrix:\n",
      "[[9.37276e+05 5.80000e+01]\n",
      " [4.77000e+02 3.07000e+02]]\n"
     ]
    }
   ],
   "source": [
    "# Generate a confusion matrix\n",
    "from pyspark.mllib.evaluation import MulticlassMetrics\n",
    "\n",
    "predictionsAndLabels = data_pred.select(['prediction', 'label']).rdd.map(lambda x: (float(x[0]), float(x[1])))\n",
    "metrics = MulticlassMetrics(predictionsAndLabels)\n",
    "\n",
    "print('Confusion matrix:')\n",
    "print(metrics.confusionMatrix().toArray())"
   ]
  },
  {
   "cell_type": "code",
   "execution_count": 23,
   "metadata": {
    "id": "FFg9hjYUyAM-"
   },
   "outputs": [],
   "source": []
  }
 ],
 "metadata": {
  "colab": {
   "provenance": []
  },
  "kernelspec": {
   "display_name": "Python 3 (ipykernel)",
   "language": "python",
   "name": "python3"
  },
  "language_info": {
   "codemirror_mode": {
    "name": "ipython",
    "version": 3
   },
   "file_extension": ".py",
   "mimetype": "text/x-python",
   "name": "python",
   "nbconvert_exporter": "python",
   "pygments_lexer": "ipython3",
   "version": "3.11.2"
  }
 },
 "nbformat": 4,
 "nbformat_minor": 1
}
